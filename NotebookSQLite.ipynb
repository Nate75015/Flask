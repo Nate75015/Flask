{
 "cells": [
  {
   "cell_type": "code",
   "execution_count": null,
   "id": "eeaa2530",
   "metadata": {},
   "outputs": [],
   "source": [
    "import sqlite3"
   ]
  },
  {
   "cell_type": "code",
   "execution_count": null,
   "id": "1a6631d5",
   "metadata": {},
   "outputs": [],
   "source": [
    "conn = sqlite3.connect('app.db')\n",
    "cur = conn.cursor()\n",
    "#cur.execute(\"CREATE TABLE contacts (contact_id INTEGER PRIMARY KEY,first_name TEXT NOT NULL, last_name TEXT NOT NULL,email TEXT NOT NULL UNIQUE, phone TEXT NOT NULL UNIQUE);\")\n",
    "data = cur.execute('SELECT name FROM sqlite_schema ').fetchall()\n",
    "list1 = []\n",
    "for row in data:\n",
    "    list1.append(data)\n",
    "print(list1[1])"
   ]
  },
  {
   "cell_type": "code",
   "execution_count": null,
   "id": "8a29bb04",
   "metadata": {},
   "outputs": [],
   "source": [
    "list2 = []\n",
    "data_contacts = cur.execute('SELECT name FROM PRAGMA_TABLE_INFO(\"sqlite_autoindex_contacts_1\")').fetchall()\n",
    "for row in data_contacts:\n",
    "    list2.append(row)\n",
    "print(list2)"
   ]
  }
 ],
 "metadata": {
  "kernelspec": {
   "display_name": "Python 3 (ipykernel)",
   "language": "python",
   "name": "python3"
  },
  "language_info": {
   "codemirror_mode": {
    "name": "ipython",
    "version": 3
   },
   "file_extension": ".py",
   "mimetype": "text/x-python",
   "name": "python",
   "nbconvert_exporter": "python",
   "pygments_lexer": "ipython3",
   "version": "3.7.12"
  }
 },
 "nbformat": 4,
 "nbformat_minor": 5
}
